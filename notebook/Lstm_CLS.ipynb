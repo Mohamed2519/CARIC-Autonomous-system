{
  "cells": [
    {
      "cell_type": "markdown",
      "metadata": {
        "id": "view-in-github",
        "colab_type": "text"
      },
      "source": [
        "<a href=\"https://colab.research.google.com/github/Mohamed2519/CARIC-Autonomous-system/blob/master/notebook/Lstm_CLS.ipynb\" target=\"_parent\"><img src=\"https://colab.research.google.com/assets/colab-badge.svg\" alt=\"Open In Colab\"/></a>"
      ]
    },
    {
      "cell_type": "markdown",
      "metadata": {
        "id": "vY4SK0xKAJgm"
      },
      "source": [
        "# RNN Classifier with LSTM Trained on sst2 Dataset "
      ]
    },
    {
      "cell_type": "markdown",
      "source": [
        "## Import Library"
      ],
      "metadata": {
        "id": "AQ666hkBlicW"
      }
    },
    {
      "cell_type": "code",
      "source": [
        "from google.colab import drive\n",
        "drive.mount('/content/drive')"
      ],
      "metadata": {
        "id": "AX5FIkqed6tf",
        "colab": {
          "base_uri": "https://localhost:8080/"
        },
        "outputId": "e6be83b3-ec7c-40bc-a3f8-660677b7c149"
      },
      "execution_count": 1,
      "outputs": [
        {
          "output_type": "stream",
          "name": "stdout",
          "text": [
            "Mounted at /content/drive\n"
          ]
        }
      ]
    },
    {
      "cell_type": "code",
      "source": [
        "!pip install torchtext==0.9"
      ],
      "metadata": {
        "id": "0-L40zK1Qt8u",
        "colab": {
          "base_uri": "https://localhost:8080/"
        },
        "outputId": "b3c53621-8c51-4ce2-ac33-8a7edb62b7bb"
      },
      "execution_count": 2,
      "outputs": [
        {
          "output_type": "stream",
          "name": "stdout",
          "text": [
            "Looking in indexes: https://pypi.org/simple, https://us-python.pkg.dev/colab-wheels/public/simple/\n",
            "Collecting torchtext==0.9\n",
            "  Downloading torchtext-0.9.0-cp37-cp37m-manylinux1_x86_64.whl (7.1 MB)\n",
            "\u001b[K     |████████████████████████████████| 7.1 MB 32.9 MB/s \n",
            "\u001b[?25hRequirement already satisfied: tqdm in /usr/local/lib/python3.7/dist-packages (from torchtext==0.9) (4.64.1)\n",
            "Requirement already satisfied: requests in /usr/local/lib/python3.7/dist-packages (from torchtext==0.9) (2.23.0)\n",
            "Requirement already satisfied: numpy in /usr/local/lib/python3.7/dist-packages (from torchtext==0.9) (1.21.6)\n",
            "Collecting torch==1.8.0\n",
            "  Downloading torch-1.8.0-cp37-cp37m-manylinux1_x86_64.whl (735.5 MB)\n",
            "\u001b[K     |████████████████████████████████| 735.5 MB 15 kB/s \n",
            "\u001b[?25hRequirement already satisfied: typing-extensions in /usr/local/lib/python3.7/dist-packages (from torch==1.8.0->torchtext==0.9) (4.1.1)\n",
            "Requirement already satisfied: chardet<4,>=3.0.2 in /usr/local/lib/python3.7/dist-packages (from requests->torchtext==0.9) (3.0.4)\n",
            "Requirement already satisfied: idna<3,>=2.5 in /usr/local/lib/python3.7/dist-packages (from requests->torchtext==0.9) (2.10)\n",
            "Requirement already satisfied: certifi>=2017.4.17 in /usr/local/lib/python3.7/dist-packages (from requests->torchtext==0.9) (2022.9.24)\n",
            "Requirement already satisfied: urllib3!=1.25.0,!=1.25.1,<1.26,>=1.21.1 in /usr/local/lib/python3.7/dist-packages (from requests->torchtext==0.9) (1.24.3)\n",
            "Installing collected packages: torch, torchtext\n",
            "  Attempting uninstall: torch\n",
            "    Found existing installation: torch 1.12.1+cu113\n",
            "    Uninstalling torch-1.12.1+cu113:\n",
            "      Successfully uninstalled torch-1.12.1+cu113\n",
            "  Attempting uninstall: torchtext\n",
            "    Found existing installation: torchtext 0.13.1\n",
            "    Uninstalling torchtext-0.13.1:\n",
            "      Successfully uninstalled torchtext-0.13.1\n",
            "\u001b[31mERROR: pip's dependency resolver does not currently take into account all the packages that are installed. This behaviour is the source of the following dependency conflicts.\n",
            "torchvision 0.13.1+cu113 requires torch==1.12.1, but you have torch 1.8.0 which is incompatible.\n",
            "torchaudio 0.12.1+cu113 requires torch==1.12.1, but you have torch 1.8.0 which is incompatible.\u001b[0m\n",
            "Successfully installed torch-1.8.0 torchtext-0.9.0\n"
          ]
        }
      ]
    },
    {
      "cell_type": "code",
      "source": [
        "!pip install torch==1.8.0+cu111 torchvision==0.9.0+cu111 torchaudio==0.8.0 -f https://download.pytorch.org/whl/torch_stable.html\n"
      ],
      "metadata": {
        "id": "Nn-xRM9rPc_S",
        "colab": {
          "base_uri": "https://localhost:8080/"
        },
        "outputId": "e7c88bb4-7319-4692-e168-178b8b3c6b26"
      },
      "execution_count": 3,
      "outputs": [
        {
          "output_type": "stream",
          "name": "stdout",
          "text": [
            "Looking in indexes: https://pypi.org/simple, https://us-python.pkg.dev/colab-wheels/public/simple/\n",
            "Looking in links: https://download.pytorch.org/whl/torch_stable.html\n",
            "Collecting torch==1.8.0+cu111\n",
            "  Downloading https://download.pytorch.org/whl/cu111/torch-1.8.0%2Bcu111-cp37-cp37m-linux_x86_64.whl (1982.2 MB)\n",
            "\u001b[K     |█████████████▌                  | 834.1 MB 74.1 MB/s eta 0:00:16tcmalloc: large alloc 1147494400 bytes == 0x3aa82000 @  0x7f5157029615 0x58ead6 0x4f355e 0x4d222f 0x51041f 0x5b4ee6 0x58ff2e 0x510325 0x5b4ee6 0x58ff2e 0x50d482 0x4d00fb 0x50cb8d 0x4d00fb 0x50cb8d 0x4d00fb 0x50cb8d 0x4bac0a 0x538a76 0x590ae5 0x510280 0x5b4ee6 0x58ff2e 0x50d482 0x5b4ee6 0x58ff2e 0x50c4fc 0x58fd37 0x50ca37 0x5b4ee6 0x58ff2e\n",
            "\u001b[K     |█████████████████               | 1055.7 MB 64.9 MB/s eta 0:00:15tcmalloc: large alloc 1434370048 bytes == 0x7f0d8000 @  0x7f5157029615 0x58ead6 0x4f355e 0x4d222f 0x51041f 0x5b4ee6 0x58ff2e 0x510325 0x5b4ee6 0x58ff2e 0x50d482 0x4d00fb 0x50cb8d 0x4d00fb 0x50cb8d 0x4d00fb 0x50cb8d 0x4bac0a 0x538a76 0x590ae5 0x510280 0x5b4ee6 0x58ff2e 0x50d482 0x5b4ee6 0x58ff2e 0x50c4fc 0x58fd37 0x50ca37 0x5b4ee6 0x58ff2e\n",
            "\u001b[K     |█████████████████████▋          | 1336.2 MB 1.3 MB/s eta 0:08:18tcmalloc: large alloc 1792966656 bytes == 0x3f0a000 @  0x7f5157029615 0x58ead6 0x4f355e 0x4d222f 0x51041f 0x5b4ee6 0x58ff2e 0x510325 0x5b4ee6 0x58ff2e 0x50d482 0x4d00fb 0x50cb8d 0x4d00fb 0x50cb8d 0x4d00fb 0x50cb8d 0x4bac0a 0x538a76 0x590ae5 0x510280 0x5b4ee6 0x58ff2e 0x50d482 0x5b4ee6 0x58ff2e 0x50c4fc 0x58fd37 0x50ca37 0x5b4ee6 0x58ff2e\n",
            "\u001b[K     |███████████████████████████▎    | 1691.1 MB 1.3 MB/s eta 0:03:52tcmalloc: large alloc 2241208320 bytes == 0x6ecf2000 @  0x7f5157029615 0x58ead6 0x4f355e 0x4d222f 0x51041f 0x5b4ee6 0x58ff2e 0x510325 0x5b4ee6 0x58ff2e 0x50d482 0x4d00fb 0x50cb8d 0x4d00fb 0x50cb8d 0x4d00fb 0x50cb8d 0x4bac0a 0x538a76 0x590ae5 0x510280 0x5b4ee6 0x58ff2e 0x50d482 0x5b4ee6 0x58ff2e 0x50c4fc 0x58fd37 0x50ca37 0x5b4ee6 0x58ff2e\n",
            "\u001b[K     |████████████████████████████████| 1982.2 MB 1.2 MB/s eta 0:00:01tcmalloc: large alloc 1982251008 bytes == 0xf4654000 @  0x7f51570281e7 0x4b2590 0x4b261c 0x58ead6 0x4f355e 0x4d222f 0x51041f 0x5b4ee6 0x58ff2e 0x50ca37 0x5b4ee6 0x58ff2e 0x50ca37 0x5b4ee6 0x58ff2e 0x50ca37 0x5b4ee6 0x58ff2e 0x50ca37 0x5b4ee6 0x58ff2e 0x50ca37 0x58fd37 0x50ca37 0x5b4ee6 0x58ff2e 0x50d482 0x5b4ee6 0x58ff2e 0x50d482 0x5b4ee6\n",
            "tcmalloc: large alloc 2477817856 bytes == 0x1ded6a000 @  0x7f5157029615 0x58ead6 0x4f355e 0x4d222f 0x51041f 0x5b4ee6 0x58ff2e 0x50ca37 0x5b4ee6 0x58ff2e 0x50ca37 0x5b4ee6 0x58ff2e 0x50ca37 0x5b4ee6 0x58ff2e 0x50ca37 0x5b4ee6 0x58ff2e 0x50ca37 0x58fd37 0x50ca37 0x5b4ee6 0x58ff2e 0x50d482 0x5b4ee6 0x58ff2e 0x50d482 0x5b4ee6 0x4bad99 0x4d3249\n",
            "\u001b[K     |████████████████████████████████| 1982.2 MB 5.3 kB/s \n",
            "\u001b[?25hCollecting torchvision==0.9.0+cu111\n",
            "  Downloading https://download.pytorch.org/whl/cu111/torchvision-0.9.0%2Bcu111-cp37-cp37m-linux_x86_64.whl (17.6 MB)\n",
            "\u001b[K     |████████████████████████████████| 17.6 MB 51 kB/s \n",
            "\u001b[?25hCollecting torchaudio==0.8.0\n",
            "  Downloading torchaudio-0.8.0-cp37-cp37m-manylinux1_x86_64.whl (1.9 MB)\n",
            "\u001b[K     |████████████████████████████████| 1.9 MB 32.6 MB/s \n",
            "\u001b[?25hRequirement already satisfied: numpy in /usr/local/lib/python3.7/dist-packages (from torch==1.8.0+cu111) (1.21.6)\n",
            "Requirement already satisfied: typing-extensions in /usr/local/lib/python3.7/dist-packages (from torch==1.8.0+cu111) (4.1.1)\n",
            "Requirement already satisfied: pillow>=4.1.1 in /usr/local/lib/python3.7/dist-packages (from torchvision==0.9.0+cu111) (7.1.2)\n",
            "Installing collected packages: torch, torchvision, torchaudio\n",
            "  Attempting uninstall: torch\n",
            "    Found existing installation: torch 1.8.0\n",
            "    Uninstalling torch-1.8.0:\n",
            "      Successfully uninstalled torch-1.8.0\n",
            "  Attempting uninstall: torchvision\n",
            "    Found existing installation: torchvision 0.13.1+cu113\n",
            "    Uninstalling torchvision-0.13.1+cu113:\n",
            "      Successfully uninstalled torchvision-0.13.1+cu113\n",
            "  Attempting uninstall: torchaudio\n",
            "    Found existing installation: torchaudio 0.12.1+cu113\n",
            "    Uninstalling torchaudio-0.12.1+cu113:\n",
            "      Successfully uninstalled torchaudio-0.12.1+cu113\n",
            "Successfully installed torch-1.8.0+cu111 torchaudio-0.8.0 torchvision-0.9.0+cu111\n"
          ]
        }
      ]
    },
    {
      "cell_type": "code",
      "execution_count": 4,
      "metadata": {
        "colab": {
          "base_uri": "https://localhost:8080/"
        },
        "id": "moNmVfuvnImW",
        "outputId": "cf38f739-68c6-4c09-a11e-7cf3f3409509"
      },
      "outputs": [
        {
          "output_type": "stream",
          "name": "stdout",
          "text": [
            "0.9.0\n"
          ]
        }
      ],
      "source": [
        "\n",
        "import torch\n",
        "import torch.nn.functional as F\n",
        "import torchtext\n",
        "from torchtext.legacy import data\n",
        "import time\n",
        "import random\n",
        "import pandas as pd\n",
        "print(torchtext.__version__)\n",
        "torch.backends.cudnn.deterministic = True"
      ]
    },
    {
      "cell_type": "markdown",
      "metadata": {
        "id": "GSRL42Qgy8I8"
      },
      "source": [
        "## General Settings"
      ]
    },
    {
      "cell_type": "code",
      "execution_count": 5,
      "metadata": {
        "id": "OvW1RgfepCBq"
      },
      "outputs": [],
      "source": [
        "RANDOM_SEED = 123\n",
        "torch.manual_seed(RANDOM_SEED)\n",
        "\n",
        "VOCABULARY_SIZE = 10000\n",
        "LEARNING_RATE = 0.005\n",
        "BATCH_SIZE = 128\n",
        "NUM_EPOCHS = 20\n",
        "DEVICE = torch.device('cuda:0' if torch.cuda.is_available() else 'cpu')\n",
        "\n",
        "EMBEDDING_DIM = 128\n",
        "HIDDEN_DIM = 256\n",
        "NUM_CLASSES = 2"
      ]
    },
    {
      "cell_type": "markdown",
      "metadata": {
        "id": "6P5m_bBKdx1y"
      },
      "source": [
        "## Read & Prepare Dataset with Torchtext"
      ]
    },
    {
      "cell_type": "markdown",
      "metadata": {
        "id": "4GnH64XvsV8n"
      },
      "source": [
        "Define the Label and Text field formatters:"
      ]
    },
    {
      "cell_type": "code",
      "execution_count": 6,
      "metadata": {
        "id": "_78eRQ5ydx1z"
      },
      "outputs": [],
      "source": [
        "### Defining the feature processing\n",
        "\n",
        "TEXT = data.Field(\n",
        "    tokenize='spacy', # default splits on whitespace\n",
        "    tokenizer_language='en_core_web_sm'\n",
        ")\n",
        "\n",
        "### Defining the label processing\n",
        "\n",
        "LABEL = data.LabelField(dtype=torch.long)\n",
        "fields = [('sentence', TEXT), ('label', LABEL)] \n"
      ]
    },
    {
      "cell_type": "markdown",
      "metadata": {
        "id": "qs6Mv506dx1z"
      },
      "source": [
        "Process the dataset:"
      ]
    },
    {
      "cell_type": "code",
      "source": [
        "train_data = data.TabularDataset(\n",
        "    path='/content/drive/MyDrive/Sentament_analysis SST2/train_binary_sent.csv',\n",
        "    format='csv',\n",
        "    fields=fields,\n",
        "    skip_header=True,\n",
        ")\n",
        "\n",
        "for example in train_data.examples:\n",
        "    print(example.sentence, example.label)\n",
        "    break"
      ],
      "metadata": {
        "colab": {
          "base_uri": "https://localhost:8080/"
        },
        "id": "yyJx3dzx8ZzU",
        "outputId": "ad019003-a5ee-4e11-a1bc-4206af9f15ad"
      },
      "execution_count": 30,
      "outputs": [
        {
          "output_type": "stream",
          "name": "stdout",
          "text": [
            "['0'] apparently reassembled from the cutting-room floor of any given daytime soap .\n"
          ]
        }
      ]
    },
    {
      "cell_type": "code",
      "source": [
        "valid_data = data.TabularDataset(\n",
        "    path='/content/drive/MyDrive/Sentament_analysis SST2/dev_binary_sent.csv',\n",
        "    format='csv',\n",
        "    fields=fields,\n",
        "    skip_header=True,\n",
        ")\n",
        "\n",
        "for example in valid_data.examples:\n",
        "    print(example.sentence, example.label)\n",
        "    break"
      ],
      "metadata": {
        "colab": {
          "base_uri": "https://localhost:8080/"
        },
        "id": "WK1TighN8knz",
        "outputId": "0f0bb65c-ede1-499c-97e9-da7e83458f92"
      },
      "execution_count": 8,
      "outputs": [
        {
          "output_type": "stream",
          "name": "stdout",
          "text": [
            "['One', 'long', 'string', 'of', 'cliches', '.'] neg\n"
          ]
        }
      ]
    },
    {
      "cell_type": "code",
      "source": [
        "test_data = data.TabularDataset(\n",
        "    path='/content/drive/MyDrive/Sentament_analysis SST2/test_binary_sent.csv',\n",
        "    format='csv',\n",
        "    fields=fields,\n",
        "    skip_header=True,\n",
        ")\n",
        "\n",
        "for example in test_data.examples:\n",
        "    print(example.sentence, example.label)\n",
        "    break"
      ],
      "metadata": {
        "colab": {
          "base_uri": "https://localhost:8080/"
        },
        "id": "neCccY9t86bx",
        "outputId": "c41cc9df-ee09-44d4-c3a6-927f41f0140e"
      },
      "execution_count": 9,
      "outputs": [
        {
          "output_type": "stream",
          "name": "stdout",
          "text": [
            "['No', 'movement', ',', 'no', 'yuks', ',', 'not', 'much', 'of', 'anything', '.'] neg\n"
          ]
        }
      ]
    },
    {
      "cell_type": "code",
      "source": [
        "print(f'Num Train: {len(train_data)}')\n",
        "print(f'Num Validation: {len(valid_data)}')\n",
        "print(f'Num Test: {len(test_data)}')"
      ],
      "metadata": {
        "colab": {
          "base_uri": "https://localhost:8080/"
        },
        "id": "JQsippXQmKKe",
        "outputId": "0888b22d-bc16-406e-9489-fefdb679914a"
      },
      "execution_count": 10,
      "outputs": [
        {
          "output_type": "stream",
          "name": "stdout",
          "text": [
            "Num Train: 6920\n",
            "Num Validation: 872\n",
            "Num Test: 1821\n"
          ]
        }
      ]
    },
    {
      "cell_type": "markdown",
      "metadata": {
        "id": "kKTDenGodx12"
      },
      "source": [
        "## Build Vocabulary"
      ]
    },
    {
      "cell_type": "markdown",
      "metadata": {
        "id": "L-TBwKWPslPa"
      },
      "source": [
        "Build the vocabulary based on the top \"VOCABULARY_SIZE\" words:"
      ]
    },
    {
      "cell_type": "code",
      "execution_count": 11,
      "metadata": {
        "colab": {
          "base_uri": "https://localhost:8080/"
        },
        "id": "e8uNrjdtn4A8",
        "outputId": "d4ec61da-806b-4d8c-9faa-398f716baa7e"
      },
      "outputs": [
        {
          "output_type": "stream",
          "name": "stdout",
          "text": [
            "Vocabulary size: 10002\n",
            "Number of classes: 2\n"
          ]
        }
      ],
      "source": [
        "TEXT.build_vocab(train_data, max_size=VOCABULARY_SIZE)\n",
        "LABEL.build_vocab(train_data)\n",
        "\n",
        "print(f'Vocabulary size: {len(TEXT.vocab)}')\n",
        "print(f'Number of classes: {len(LABEL.vocab)}')"
      ]
    },
    {
      "cell_type": "markdown",
      "metadata": {
        "id": "VFNGohUIdx15"
      },
      "source": [
        "Class labels:"
      ]
    },
    {
      "cell_type": "code",
      "execution_count": 12,
      "metadata": {
        "colab": {
          "base_uri": "https://localhost:8080/"
        },
        "id": "UdFWekmfdx15",
        "outputId": "d0b68bbd-265c-4798-ed2b-e4070bd72f91"
      },
      "outputs": [
        {
          "output_type": "stream",
          "name": "stdout",
          "text": [
            "defaultdict(None, {'pos': 0, 'neg': 1})\n"
          ]
        }
      ],
      "source": [
        "print(LABEL.vocab.stoi)"
      ]
    },
    {
      "cell_type": "markdown",
      "metadata": {
        "id": "eRLZXA1Adx15"
      },
      "source": [
        "**Class label count:**"
      ]
    },
    {
      "cell_type": "code",
      "execution_count": 13,
      "metadata": {
        "colab": {
          "base_uri": "https://localhost:8080/"
        },
        "id": "HuAXaCLJdx16",
        "outputId": "bb3bb233-2856-4237-b891-d632589ea1c2"
      },
      "outputs": [
        {
          "output_type": "execute_result",
          "data": {
            "text/plain": [
              "Counter({'pos': 3610, 'neg': 3310})"
            ]
          },
          "metadata": {},
          "execution_count": 13
        }
      ],
      "source": [
        "LABEL.vocab.freqs"
      ]
    },
    {
      "cell_type": "markdown",
      "metadata": {
        "id": "eIQ_zfKLwjKm"
      },
      "source": [
        "## Define Data Loaders"
      ]
    },
    {
      "cell_type": "code",
      "execution_count": 14,
      "metadata": {
        "id": "i7JiHR1stHNF"
      },
      "outputs": [],
      "source": [
        "train_loader, valid_loader, test_loader = \\\n",
        "    torchtext.legacy.data.BucketIterator.splits(\n",
        "        (train_data, valid_data, test_data),\n",
        "         batch_size=BATCH_SIZE,\n",
        "         sort_within_batch=False,\n",
        "         sort_key=lambda x: len(x.sentence),\n",
        "         device=DEVICE\n",
        "    )"
      ]
    },
    {
      "cell_type": "markdown",
      "metadata": {
        "id": "R0pT_dMRvicQ"
      },
      "source": [
        "Testing the iterators (note that the number of rows depends on the longest document in the respective batch):"
      ]
    },
    {
      "cell_type": "code",
      "execution_count": 15,
      "metadata": {
        "colab": {
          "base_uri": "https://localhost:8080/"
        },
        "id": "y8SP_FccutT0",
        "outputId": "1629b079-a648-4d54-b515-7becd56648c5"
      },
      "outputs": [
        {
          "output_type": "stream",
          "name": "stdout",
          "text": [
            "Train\n",
            "Text matrix size: torch.Size([46, 128])\n",
            "Target vector size: torch.Size([128])\n",
            "\n",
            "Valid:\n",
            "Text matrix size: torch.Size([10, 128])\n",
            "Target vector size: torch.Size([128])\n",
            "\n",
            "Test:\n",
            "Text matrix size: torch.Size([7, 128])\n",
            "Target vector size: torch.Size([128])\n"
          ]
        }
      ],
      "source": [
        "print('Train')\n",
        "for batch in train_loader:\n",
        "    print(f'Text matrix size: {batch.sentence.size()}')\n",
        "    print(f'Target vector size: {batch.label.size()}')\n",
        "    break\n",
        "    \n",
        "print('\\nValid:')\n",
        "for batch in valid_loader:\n",
        "    print(f'Text matrix size: {batch.sentence.size()}')\n",
        "    print(f'Target vector size: {batch.label.size()}')\n",
        "    break\n",
        "    \n",
        "print('\\nTest:')\n",
        "for batch in test_loader:\n",
        "    print(f'Text matrix size: {batch.sentence.size()}')\n",
        "    print(f'Target vector size: {batch.label.size()}')\n",
        "    break"
      ]
    },
    {
      "cell_type": "markdown",
      "metadata": {
        "id": "G_grdW3pxCzz"
      },
      "source": [
        "## Model"
      ]
    },
    {
      "cell_type": "code",
      "source": [
        "EMBEDDING_DIM = 128\n",
        "HIDDEN_DIM = 256\n",
        "NUM_CLASSES = 2"
      ],
      "metadata": {
        "id": "GUZH4AtFWjvw"
      },
      "execution_count": 16,
      "outputs": []
    },
    {
      "cell_type": "code",
      "source": [
        "from torch import nn\n",
        "from torch.nn import functional as F\n",
        "\n",
        "embed_len = 50\n",
        "hidden_dim = 50\n",
        "n_layers=1\n",
        "\n",
        "class RNNClassifier(nn.Module):\n",
        "    def __init__(self):\n",
        "        super(RNNClassifier, self).__init__()\n",
        "        self.embedding_layer = nn.Embedding(num_embeddings=EMBEDDING_DIM, embedding_dim=embed_len)\n",
        "        self.rnn = nn.RNN(input_size=embed_len, hidden_size=hidden_dim, num_layers=n_layers, batch_first=True)\n",
        "        self.linear = nn.Linear(hidden_dim, NUM_CLASSES)\n",
        "\n",
        "    def forward(self, X_batch):\n",
        "        embeddings = self.embedding_layer(X_batch)\n",
        "        output, hidden = self.rnn(embeddings, torch.randn(n_layers, len(X_batch), hidden_dim))\n",
        "        return self.linear(output[:,-1])"
      ],
      "metadata": {
        "id": "KUslbLRLUnP_"
      },
      "execution_count": 17,
      "outputs": []
    },
    {
      "cell_type": "code",
      "source": [
        "rnn_classifier = RNNClassifier()\n",
        "rnn_classifier = rnn_classifier.to(DEVICE)\n",
        "optimizer = torch.optim.Adam(rnn_classifier.parameters(), lr=0.005)"
      ],
      "metadata": {
        "id": "T1100In1XyKd"
      },
      "execution_count": 18,
      "outputs": []
    },
    {
      "cell_type": "code",
      "execution_count": 19,
      "metadata": {
        "id": "nQIUm5EjxFNa"
      },
      "outputs": [],
      "source": [
        "class LSTMClassifier(torch.nn.Module):\n",
        "    \n",
        "    def __init__(self, input_dim, embedding_dim, hidden_dim, output_dim):\n",
        "        super(LSTMClassifier,self).__init__()\n",
        "\n",
        "        self.embedding = torch.nn.Embedding(input_dim, embedding_dim)\n",
        "        #self.rnn = torch.nn.RNN(embedding_dim,\n",
        "        #                        hidden_dim,\n",
        "        #                        nonlinearity='relu')\n",
        "        self.rnn = torch.nn.LSTM(embedding_dim,\n",
        "                                 hidden_dim)        \n",
        "        \n",
        "        self.fc = torch.nn.Linear(hidden_dim, output_dim)\n",
        "        \n",
        "\n",
        "    def forward(self, text):\n",
        "        # text dim: [sentence length, batch size]\n",
        "        \n",
        "        embedded = self.embedding(text)\n",
        "        # embedded dim: [sentence length, batch size, embedding dim]\n",
        "        \n",
        "        output, (hidden, cell) = self.rnn(embedded)\n",
        "        # output dim: [sentence length, batch size, hidden dim]\n",
        "        # hidden dim: [1, batch size, hidden dim]\n",
        "\n",
        "        hidden.squeeze_(0)\n",
        "        # hidden dim: [batch size, hidden dim]\n",
        "        \n",
        "        output = self.fc(hidden)\n",
        "        return output"
      ]
    },
    {
      "cell_type": "code",
      "execution_count": 20,
      "metadata": {
        "id": "Ik3NF3faxFmZ"
      },
      "outputs": [],
      "source": [
        "torch.manual_seed(RANDOM_SEED)\n",
        "model = LSTMClassifier(input_dim=len(TEXT.vocab),\n",
        "            embedding_dim=EMBEDDING_DIM,\n",
        "            hidden_dim=HIDDEN_DIM,\n",
        "            output_dim=NUM_CLASSES # could use 1 for binary classification\n",
        ")\n",
        "\n",
        "model = model.to(DEVICE)\n",
        "optimizer = torch.optim.Adam(model.parameters(), lr=0.005)"
      ]
    },
    {
      "cell_type": "markdown",
      "metadata": {
        "id": "Lv9Ny9di6VcI"
      },
      "source": [
        "## Training"
      ]
    },
    {
      "cell_type": "code",
      "execution_count": 21,
      "metadata": {
        "id": "T5t1Afn4xO11"
      },
      "outputs": [],
      "source": [
        "def compute_accuracy(model, data_loader, device):\n",
        "\n",
        "    with torch.no_grad():\n",
        "\n",
        "        correct_pred, num_examples = 0, 0\n",
        "\n",
        "        for i, (features, targets) in enumerate(data_loader):\n",
        "\n",
        "            features = features.to(device)\n",
        "            targets = targets.to(device)\n",
        "\n",
        "            logits = model(features)\n",
        "\n",
        "            loss2 = F.cross_entropy(logits, targets)\n",
        "            val_losses.append(loss2.to('cpu'))\n",
        "\n",
        "\n",
        "            _, predicted_labels = torch.max(logits, 1)\n",
        "\n",
        "            num_examples += targets.size(0)\n",
        "            correct_pred += (predicted_labels == targets).sum()\n",
        "    return correct_pred.float()/num_examples * 100 "
      ]
    },
    {
      "cell_type": "code",
      "source": [
        "# https://discuss.pytorch.org/t/how-to-plot-train-and-validation-accuracy-graph/105524\n",
        "# from torch.utils.tensorboard import SummaryWriter\n",
        "\n",
        "# # Writer will output to ./runs/ directory by default\n",
        "# writer = SummaryWriter(logdir)\n",
        "\n",
        "# training loop\n",
        "# train_loss += loss_train.item()\n",
        "# writer.add_scalar('Loss/train', training_loss, global_step)\n",
        "\n",
        "# testing\n",
        "# val_loss += loss_val.item()\n",
        "# writer.add_scalar('Loss/val', val_loss, global_step)\n",
        "\n",
        "# writer.close()"
      ],
      "metadata": {
        "id": "DEWyykyi1L3R",
        "colab": {
          "base_uri": "https://localhost:8080/",
          "height": 130
        },
        "outputId": "34b7e32d-5272-4fcd-8489-f57f6ed34ce1"
      },
      "execution_count": null,
      "outputs": [
        {
          "output_type": "error",
          "ename": "SyntaxError",
          "evalue": "ignored",
          "traceback": [
            "\u001b[0;36m  File \u001b[0;32m\"<ipython-input-16-01f87907c388>\"\u001b[0;36m, line \u001b[0;32m1\u001b[0m\n\u001b[0;31m    https://discuss.pytorch.org/t/how-to-plot-train-and-validation-accuracy-graph/105524\u001b[0m\n\u001b[0m           ^\u001b[0m\n\u001b[0;31mSyntaxError\u001b[0m\u001b[0;31m:\u001b[0m invalid syntax\n"
          ]
        }
      ]
    },
    {
      "cell_type": "code",
      "execution_count": 22,
      "metadata": {
        "colab": {
          "base_uri": "https://localhost:8080/"
        },
        "id": "EABZM8Vo0ilB",
        "outputId": "e5ccd0cd-d646-486d-b387-2856a6028734"
      },
      "outputs": [
        {
          "output_type": "stream",
          "name": "stdout",
          "text": [
            "Epoch: 001/020 | Batch 000/055 | Loss: 0.6932\n",
            "Epoch: 001/020 | Batch 050/055 | Loss: 0.6998\n",
            "training accuracy: 52.23%\n",
            "valid accuracy: 50.92%\n",
            "Time elapsed: 0.03 min\n",
            "Epoch: 002/020 | Batch 000/055 | Loss: 0.6905\n",
            "Epoch: 002/020 | Batch 050/055 | Loss: 0.6912\n",
            "training accuracy: 52.24%\n",
            "valid accuracy: 50.92%\n",
            "Time elapsed: 0.04 min\n",
            "Epoch: 003/020 | Batch 000/055 | Loss: 0.6920\n",
            "Epoch: 003/020 | Batch 050/055 | Loss: 0.6729\n",
            "training accuracy: 52.31%\n",
            "valid accuracy: 50.46%\n",
            "Time elapsed: 0.06 min\n",
            "Epoch: 004/020 | Batch 000/055 | Loss: 0.7024\n",
            "Epoch: 004/020 | Batch 050/055 | Loss: 0.6833\n",
            "training accuracy: 52.40%\n",
            "valid accuracy: 51.15%\n",
            "Time elapsed: 0.08 min\n",
            "Epoch: 005/020 | Batch 000/055 | Loss: 0.6892\n",
            "Epoch: 005/020 | Batch 050/055 | Loss: 0.7057\n",
            "training accuracy: 52.41%\n",
            "valid accuracy: 52.18%\n",
            "Time elapsed: 0.10 min\n",
            "Epoch: 006/020 | Batch 000/055 | Loss: 0.6867\n",
            "Epoch: 006/020 | Batch 050/055 | Loss: 0.6204\n",
            "training accuracy: 73.66%\n",
            "valid accuracy: 66.97%\n",
            "Time elapsed: 0.12 min\n",
            "Epoch: 007/020 | Batch 000/055 | Loss: 0.5849\n",
            "Epoch: 007/020 | Batch 050/055 | Loss: 0.5229\n",
            "training accuracy: 86.55%\n",
            "valid accuracy: 73.85%\n",
            "Time elapsed: 0.14 min\n",
            "Epoch: 008/020 | Batch 000/055 | Loss: 0.3566\n",
            "Epoch: 008/020 | Batch 050/055 | Loss: 0.2842\n",
            "training accuracy: 94.34%\n",
            "valid accuracy: 77.29%\n",
            "Time elapsed: 0.15 min\n",
            "Epoch: 009/020 | Batch 000/055 | Loss: 0.1772\n",
            "Epoch: 009/020 | Batch 050/055 | Loss: 0.1908\n",
            "training accuracy: 97.21%\n",
            "valid accuracy: 77.29%\n",
            "Time elapsed: 0.16 min\n",
            "Epoch: 010/020 | Batch 000/055 | Loss: 0.0864\n",
            "Epoch: 010/020 | Batch 050/055 | Loss: 0.0656\n",
            "training accuracy: 98.66%\n",
            "valid accuracy: 76.83%\n",
            "Time elapsed: 0.18 min\n",
            "Epoch: 011/020 | Batch 000/055 | Loss: 0.0353\n",
            "Epoch: 011/020 | Batch 050/055 | Loss: 0.0150\n",
            "training accuracy: 99.28%\n",
            "valid accuracy: 77.52%\n",
            "Time elapsed: 0.19 min\n",
            "Epoch: 012/020 | Batch 000/055 | Loss: 0.0602\n",
            "Epoch: 012/020 | Batch 050/055 | Loss: 0.0118\n",
            "training accuracy: 99.71%\n",
            "valid accuracy: 77.98%\n",
            "Time elapsed: 0.20 min\n",
            "Epoch: 013/020 | Batch 000/055 | Loss: 0.0073\n",
            "Epoch: 013/020 | Batch 050/055 | Loss: 0.0052\n",
            "training accuracy: 99.86%\n",
            "valid accuracy: 77.52%\n",
            "Time elapsed: 0.21 min\n",
            "Epoch: 014/020 | Batch 000/055 | Loss: 0.0084\n",
            "Epoch: 014/020 | Batch 050/055 | Loss: 0.0059\n",
            "training accuracy: 99.80%\n",
            "valid accuracy: 74.54%\n",
            "Time elapsed: 0.22 min\n",
            "Epoch: 015/020 | Batch 000/055 | Loss: 0.0030\n",
            "Epoch: 015/020 | Batch 050/055 | Loss: 0.0180\n",
            "training accuracy: 99.88%\n",
            "valid accuracy: 76.61%\n",
            "Time elapsed: 0.23 min\n",
            "Epoch: 016/020 | Batch 000/055 | Loss: 0.0020\n",
            "Epoch: 016/020 | Batch 050/055 | Loss: 0.0115\n",
            "training accuracy: 99.73%\n",
            "valid accuracy: 75.80%\n",
            "Time elapsed: 0.24 min\n",
            "Epoch: 017/020 | Batch 000/055 | Loss: 0.0106\n",
            "Epoch: 017/020 | Batch 050/055 | Loss: 0.0258\n",
            "training accuracy: 99.60%\n",
            "valid accuracy: 76.61%\n",
            "Time elapsed: 0.25 min\n",
            "Epoch: 018/020 | Batch 000/055 | Loss: 0.0082\n",
            "Epoch: 018/020 | Batch 050/055 | Loss: 0.4383\n",
            "training accuracy: 97.62%\n",
            "valid accuracy: 71.56%\n",
            "Time elapsed: 0.26 min\n",
            "Epoch: 019/020 | Batch 000/055 | Loss: 0.0414\n",
            "Epoch: 019/020 | Batch 050/055 | Loss: 0.0515\n",
            "training accuracy: 99.65%\n",
            "valid accuracy: 75.23%\n",
            "Time elapsed: 0.27 min\n",
            "Epoch: 020/020 | Batch 000/055 | Loss: 0.0073\n",
            "Epoch: 020/020 | Batch 050/055 | Loss: 0.0062\n",
            "training accuracy: 99.90%\n",
            "valid accuracy: 75.92%\n",
            "Time elapsed: 0.29 min\n",
            "Total Training Time: 0.29 min\n"
          ]
        }
      ],
      "source": [
        "import matplotlib.pyplot as plt\n",
        "\n",
        "val_losses = []\n",
        "train_losses = []\n",
        "start_time = time.time()\n",
        "\n",
        "for epoch in range(NUM_EPOCHS):\n",
        "    model.train()\n",
        "    for batch_idx, batch_data in enumerate(train_loader):\n",
        "        \n",
        "        text = batch_data.sentence.to(DEVICE)\n",
        "        labels = batch_data.label.to(DEVICE)\n",
        "\n",
        "        ### FORWARD AND BACK PROP\n",
        "        logits = model(text)\n",
        "        loss = F.cross_entropy(logits, labels)\n",
        "        optimizer.zero_grad()\n",
        "        \n",
        "        loss.backward()\n",
        "        train_losses.append(loss.item())\n",
        "        ### UPDATE MODEL PARAMETERS\n",
        "        optimizer.step()\n",
        "        \n",
        "        ### LOGGING\n",
        "        if not batch_idx % 50:\n",
        "            print (f'Epoch: {epoch+1:03d}/{NUM_EPOCHS:03d} | '\n",
        "                   f'Batch {batch_idx:03d}/{len(train_loader):03d} | '\n",
        "                   f'Loss: {loss:.4f}')\n",
        "\n",
        "    with torch.set_grad_enabled(False):\n",
        "        train_acc = compute_accuracy(model, train_loader, DEVICE)\n",
        "        val_acc   = compute_accuracy(model, valid_loader, DEVICE)\n",
        "        print(f'training accuracy: '\n",
        "              f'{train_acc:.2f}%'\n",
        "              f'\\nvalid accuracy: '\n",
        "              f'{val_acc:.2f}%')\n",
        "        \n",
        "    print(f'Time elapsed: {(time.time() - start_time)/60:.2f} min')\n",
        "    \n",
        "print(f'Total Training Time: {(time.time() - start_time)/60:.2f} min')\n"
      ]
    },
    {
      "cell_type": "code",
      "source": [
        "test_acc = compute_accuracy(model, test_loader, DEVICE)\n",
        "print(f'Test accuracy: {test_acc:.2f}%')"
      ],
      "metadata": {
        "colab": {
          "base_uri": "https://localhost:8080/"
        },
        "id": "qd33W51ZwBq4",
        "outputId": "0ab9e86e-3822-45d6-a5a9-9bf51bba63b2"
      },
      "execution_count": 23,
      "outputs": [
        {
          "output_type": "stream",
          "name": "stdout",
          "text": [
            "Test accuracy: 76.83%\n"
          ]
        }
      ]
    },
    {
      "cell_type": "code",
      "source": [
        "plt.figure(figsize=(10,5))\n",
        "plt.title(\"Training and Validation Loss\")\n",
        "plt.plot(val_losses,label=\"val\")\n",
        "plt.plot(train_losses,label=\"train\")\n",
        "plt.xlabel(\"iterations\")\n",
        "plt.ylabel(\"Loss\")\n",
        "plt.legend()\n",
        "plt.show()"
      ],
      "metadata": {
        "colab": {
          "base_uri": "https://localhost:8080/",
          "height": 350
        },
        "id": "pHpTVw8XvTU4",
        "outputId": "45cddac8-8287-4dce-d1af-13f8a7dced47"
      },
      "execution_count": 24,
      "outputs": [
        {
          "output_type": "display_data",
          "data": {
            "text/plain": [
              "<Figure size 720x360 with 1 Axes>"
            ],
            "image/png": "[encoded data removed]"
          },
          "metadata": {
            "needs_background": "light"
          }
        }
      ]
    },
    {
      "cell_type": "code",
      "source": [
        "# Save\n",
        "PATH='lstm-model.pt'\n",
        "torch.save(model,PATH)\n"
      ],
      "metadata": {
        "id": "Ynbd3tgwwXYY"
      },
      "execution_count": 26,
      "outputs": []
    },
    {
      "cell_type": "markdown",
      "source": [
        "## Testing"
      ],
      "metadata": {
        "id": "lDNlY7V6mpd2"
      }
    },
    {
      "cell_type": "code",
      "execution_count": 27,
      "metadata": {
        "colab": {
          "base_uri": "https://localhost:8080/"
        },
        "id": "jt55pscgFdKZ",
        "outputId": "fedf149b-0ac5-45eb-c442-26b9dbdc7937"
      },
      "outputs": [
        {
          "output_type": "stream",
          "name": "stdout",
          "text": [
            "Probability positive:\n"
          ]
        },
        {
          "output_type": "execute_result",
          "data": {
            "text/plain": [
              "0.9995383024215698"
            ]
          },
          "metadata": {},
          "execution_count": 27
        }
      ],
      "source": [
        "\n",
        "import spacy\n",
        "\n",
        "\n",
        "nlp = spacy.blank(\"en\")\n",
        "modell1 = torch.load('/content/lstm-model.pt')\n",
        "modell1.eval()\n",
        "def predict_sentiment(model, sentence):\n",
        "\n",
        "    \n",
        "    tokenized = [tok.text for tok in nlp.tokenizer(sentence)]\n",
        "    indexed = [TEXT.vocab.stoi[t] for t in tokenized]\n",
        "    length = [len(indexed)]\n",
        "    tensor = torch.LongTensor(indexed).to(DEVICE)\n",
        "    tensor = tensor.unsqueeze(1)\n",
        "    length_tensor = torch.LongTensor(length)\n",
        "    prediction = torch.nn.functional.softmax(modell1(tensor), dim=1)\n",
        "    return prediction[0][0].item()\n",
        "\n",
        "print('Probability positive:')\n",
        "predict_sentiment(modell1, \"This is such an good movie, I really love it!\")"
      ]
    },
    {
      "cell_type": "code",
      "execution_count": 28,
      "metadata": {
        "id": "Fv-nf_LVdx18",
        "colab": {
          "base_uri": "https://localhost:8080/"
        },
        "outputId": "e20a7d91-2e4f-4952-c951-8e61a4e020e8"
      },
      "outputs": [
        {
          "output_type": "stream",
          "name": "stdout",
          "text": [
            "Probability negative:\n"
          ]
        },
        {
          "output_type": "execute_result",
          "data": {
            "text/plain": [
              "0.998908597859554"
            ]
          },
          "metadata": {},
          "execution_count": 28
        }
      ],
      "source": [
        "print('Probability negative:')\n",
        "1-predict_sentiment(model, \"I really hate this movie. It is really bad and sucks!\")"
      ]
    },
    {
      "cell_type": "code",
      "source": [],
      "metadata": {
        "id": "_tUwKQfmgnOV"
      },
      "execution_count": null,
      "outputs": []
    }
  ],
  "metadata": {
    "colab": {
      "collapsed_sections": [],
      "provenance": [],
      "include_colab_link": true
    },
    "kernelspec": {
      "display_name": "Python 3 (ipykernel)",
      "language": "python",
      "name": "python3"
    },
    "language_info": {
      "codemirror_mode": {
        "name": "ipython",
        "version": 3
      },
      "file_extension": ".py",
      "mimetype": "text/x-python",
      "name": "python",
      "nbconvert_exporter": "python",
      "pygments_lexer": "ipython3",
      "version": "3.9.6"
    },
    "accelerator": "GPU",
    "gpuClass": "standard"
  },
  "nbformat": 4,
  "nbformat_minor": 0
}